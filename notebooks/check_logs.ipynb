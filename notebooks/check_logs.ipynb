{
 "cells": [
  {
   "cell_type": "markdown",
   "metadata": {},
   "source": [
    "# Check like/dislike logs\n",
    "\n",
    "Connect to the VPN and download logs in the `data/prod` folder with the script:\n",
    "\n",
    "```bash\n",
    "./deploy.sh --likes\n",
    "```"
   ]
  },
  {
   "cell_type": "code",
   "execution_count": null,
   "metadata": {},
   "outputs": [],
   "source": [
    "import json\n",
    "from datetime import datetime\n",
    "\n",
    "from IPython.display import Markdown, display\n",
    "\n",
    "\n",
    "def format_timestamp(ts):\n",
    "    dt = datetime.fromisoformat(ts)\n",
    "    return dt.strftime(\"%Y-%m-%d %H:%M:%S\")\n",
    "\n",
    "\n",
    "def display_messages(filepath: str):\n",
    "    logs = []\n",
    "    with open(filepath) as file:\n",
    "        for line in file:\n",
    "            logs.append(json.loads(line.strip()))\n",
    "    markdown_content = f\"{len(logs)} logs found\\n\\n---\\n\\n\"\n",
    "    for log in logs:\n",
    "        timestamp = format_timestamp(log[\"timestamp\"])\n",
    "        markdown_content += f\"🕓️ **{timestamp}**\\n\\n\"\n",
    "        for message in log[\"messages\"]:\n",
    "            role = message[\"role\"]\n",
    "            content = message[\"content\"]\n",
    "            if role == \"user\":\n",
    "                markdown_content += f\"👤 **User:** {content}\\n\\n\"\n",
    "            else:\n",
    "                markdown_content += f\"🤖 **Assistant:** {content}\\n\\n\"\n",
    "        markdown_content += \"---\\n\\n\"\n",
    "    display(Markdown(markdown_content))\n",
    "\n",
    "\n",
    "display_messages(\"../data/prod/likes.jsonl\")"
   ]
  },
  {
   "cell_type": "code",
   "execution_count": null,
   "metadata": {},
   "outputs": [],
   "source": [
    "display_messages(\"../data/prod/dislikes.jsonl\")"
   ]
  }
 ],
 "metadata": {
  "kernelspec": {
   "display_name": ".venv",
   "language": "python",
   "name": "python3"
  },
  "language_info": {
   "codemirror_mode": {
    "name": "ipython",
    "version": 3
   },
   "file_extension": ".py",
   "mimetype": "text/x-python",
   "name": "python",
   "nbconvert_exporter": "python",
   "pygments_lexer": "ipython3",
   "version": "3.12.10"
  }
 },
 "nbformat": 4,
 "nbformat_minor": 2
}
